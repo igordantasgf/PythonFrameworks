{
  "nbformat": 4,
  "nbformat_minor": 0,
  "metadata": {
    "colab": {
      "provenance": [],
      "include_colab_link": true
    },
    "kernelspec": {
      "name": "python3",
      "display_name": "Python 3"
    },
    "language_info": {
      "name": "python"
    }
  },
  "cells": [
    {
      "cell_type": "markdown",
      "metadata": {
        "id": "view-in-github",
        "colab_type": "text"
      },
      "source": [
        "<a href=\"https://colab.research.google.com/github/igordantasgf/PythonFrameworks/blob/main/Python%20e%20BDs%20Relacionais/py_sql_mongo_1.ipynb\" target=\"_parent\"><img src=\"https://colab.research.google.com/assets/colab-badge.svg\" alt=\"Open In Colab\"/></a>"
      ]
    },
    {
      "cell_type": "markdown",
      "source": [
        "### **ORM : Object Relational Mapper**\n",
        "RM ou mapeador objeto relaciona, é um tipo de ferramenta muito utilizada hoje em dia, com o propósito de unir o mundo orietado a objetos e o mundo relacional.\n",
        "#### Objeto $→$ Modelo Relacional\n",
        "\n",
        "#### **Vantagens:**\n",
        "- Menos código\n",
        "- Melhor manutenção\n",
        "- Utilização de conectores\n",
        "- Indicado para CRUDs (é um acrônimo para as quatro basic operations: creeate, read, update, delete)\n",
        "\n",
        "### **Por que usar?**\n",
        "- Troca de SGBD mais facilitada (Sistema de Gerenciamento de Banco de Dados)\n",
        "- Modelo MVC (Model-View-Controller)\n",
        "- Diminuição do DRY (Don't repeat yourself)\n",
        "- Evita problemas de segurança"
      ],
      "metadata": {
        "id": "8lq3lCwothTJ"
      }
    },
    {
      "cell_type": "code",
      "source": [
        "from IPython.display import clear_output\n",
        "!pip install pymongo\n",
        "clear_output()"
      ],
      "metadata": {
        "id": "PlBHXGCd2OK8"
      },
      "execution_count": 1,
      "outputs": []
    },
    {
      "cell_type": "code",
      "source": [
        "import sqlalchemy\n",
        "import pymongo"
      ],
      "metadata": {
        "id": "Qlngjd0r1oIO"
      },
      "execution_count": 2,
      "outputs": []
    },
    {
      "cell_type": "code",
      "source": [
        "from sqlalchemy.orm.relationships import foreign\n",
        "#import sqlalchemy as sqlA\n",
        "from sqlalchemy.orm import declarative_base\n",
        "from sqlalchemy.orm import relationship\n",
        "from sqlalchemy import Column, Integer, String, ForeignKey, create_engine, inspect, select\n",
        "\n",
        "Base = declarative_base()\n",
        "\n",
        "\n",
        "class User(Base):\n",
        "  __tablename__ = \"user_account\"\n",
        "\n",
        "  # atributos\n",
        "  id = Column(Integer, primary_key=True) # chave primaria (EDA)\n",
        "  name = Column(String)\n",
        "  fullName = (String)\n",
        "\n",
        "  user = relationship(\"Address\", back_populates=\"user\")\n",
        "\n",
        "  address = relationship(\n",
        "      \"Address\", back_populates=\"user\", cascade=\"all, delete-orphan\"\n",
        "  )\n",
        "\n",
        "  def __repr__(self):\n",
        "    return f\"User(id={self.id}, name={self.name}, fullName={self.fullName})\"\n",
        "\n",
        "\n",
        "\n",
        "class Address(Base):\n",
        "  __tablename__ = \"address\"\n",
        "\n",
        "  id = Column(Integer, primary_key=True, autoincrement=True)\n",
        "  email_address = Column(String(40), nullable=False)\n",
        "  user_id = Column(Integer, ForeignKey(\"user_account.id\"), nullable=False)\n",
        "\n",
        "  user = relationship(\"User\", back_populates=\"address\")\n",
        "\n",
        "  def __repr__(self):\n",
        "    return f\"Address (id={self.id}, email={self.email_address})\"\n",
        "\n",
        "\n",
        "\n",
        "print(User.__tablename__)\n",
        "print(Address.__tablename__)\n",
        "\n",
        "\n",
        "#Conexão com banco de dados\n",
        "engine = create_engine(\"sqlite://\")\n",
        "\n",
        "#Criando as classes como tabelas no banco de dados\n",
        "Base.metadata.create_all(engine)\n",
        "\n",
        "insp = inspect(engine)\n",
        "\n",
        "print(insp.get_table_names())\n",
        "print(insp.default_schema_name)\n"
      ],
      "metadata": {
        "id": "6iCIgLNZnsKM",
        "outputId": "6cc1d451-c1d6-4ac6-f1e7-22d55b79b6ed",
        "colab": {
          "base_uri": "https://localhost:8080/"
        }
      },
      "execution_count": 6,
      "outputs": [
        {
          "output_type": "stream",
          "name": "stdout",
          "text": [
            "user_account\n",
            "address\n",
            "['address', 'user_account']\n",
            "main\n"
          ]
        }
      ]
    },
    {
      "cell_type": "code",
      "source": [
        "from sqlalchemy.orm.session import Session\n",
        "\n",
        "with Session(engine) as session:\n",
        "  igor = User(\n",
        "      name=\"Igor\",\n",
        "      fullName=\"Igor Dantas\",\n",
        "      address=[Address(email_address='igordantas@gmail.com')]\n",
        "  )\n",
        "  bel = User(\n",
        "      name=\"Isabel\",\n",
        "      fullName=\"Maria Isabel\",\n",
        "      address=[Address(email_address='mariaisabel@gmail.com'),\n",
        "               Address(email_address='maria_reserva@gmail.com')]\n",
        "  )\n",
        "  mari = User(\n",
        "      name=\"Mariana\",\n",
        "      fullName=\"Mariana Dantas\"\n",
        "  )\n",
        "\n",
        "  # enviando para o BD (persistência de dados)\n",
        "  session.add_all([igor,bel,mari])\n",
        "\n",
        "  session.commit()\n",
        "\n",
        "clear_output()"
      ],
      "metadata": {
        "id": "9lAyKfUS3tUc"
      },
      "execution_count": 20,
      "outputs": []
    },
    {
      "cell_type": "code",
      "source": [
        "# Consultas ao banco de dados\n",
        "\n",
        "stmt = select(User).where(User.name.in_(['Igor','Mariana']))\n",
        "for user in session.scalars(stmt):\n",
        "  print(user)\n",
        "\n",
        "print(\"\\n\")\n",
        "\n",
        "stmt_address = select(Address).where(Address.user_id.in_([2]))\n",
        "for address in session.scalars(stmt_address):\n",
        "  print(address)"
      ],
      "metadata": {
        "id": "anjKY6OwXhY8",
        "outputId": "b8157bc5-ca04-4f5e-948f-cd6b70caed60",
        "colab": {
          "base_uri": "https://localhost:8080/"
        }
      },
      "execution_count": 21,
      "outputs": [
        {
          "output_type": "stream",
          "name": "stdout",
          "text": [
            "User(id=1, name=Igor, fullName=<class 'sqlalchemy.sql.sqltypes.String'>)\n",
            "User(id=3, name=Mariana, fullName=<class 'sqlalchemy.sql.sqltypes.String'>)\n",
            "\n",
            "\n",
            "Address (id=2, email=mariaisabel@gmail.com)\n",
            "Address (id=3, email=maria_reserva@gmail.com)\n"
          ]
        }
      ]
    }
  ]
}