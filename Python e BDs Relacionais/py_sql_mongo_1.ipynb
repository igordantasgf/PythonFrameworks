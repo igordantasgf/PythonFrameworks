{
  "nbformat": 4,
  "nbformat_minor": 0,
  "metadata": {
    "colab": {
      "provenance": [],
      "authorship_tag": "ABX9TyOZmkywGIH0QJRrtcrDjGlW",
      "include_colab_link": true
    },
    "kernelspec": {
      "name": "python3",
      "display_name": "Python 3"
    },
    "language_info": {
      "name": "python"
    }
  },
  "cells": [
    {
      "cell_type": "markdown",
      "metadata": {
        "id": "view-in-github",
        "colab_type": "text"
      },
      "source": [
        "<a href=\"https://colab.research.google.com/github/igordantasgf/PythonFrameworks/blob/main/Python%20e%20BDs%20Relacionais/py_sql_mongo_1.ipynb\" target=\"_parent\"><img src=\"https://colab.research.google.com/assets/colab-badge.svg\" alt=\"Open In Colab\"/></a>"
      ]
    },
    {
      "cell_type": "markdown",
      "source": [
        "### **ORM : Object Relational Mapper**\n",
        "RM ou mapeador objeto relaciona, é um tipo de ferramenta muito utilizada hoje em dia, com o propósito de unir o mundo orietado a objetos e o mundo relacional.\n",
        "#### Objeto $→$ Modelo Relacional\n",
        "\n",
        "#### **Vantagens:**\n",
        "- Menos código\n",
        "- Melhor manutenção\n",
        "- Utilização de conectores\n",
        "- Indicado para CRUDs (é um acrônimo para as quatro basic operations: creeate, read, update, delete)\n",
        "\n",
        "### **Por que usar?**\n",
        "- Troca de SGBD mais facilitada (Sistema de Gerenciamento de Banco de Dados)\n",
        "- Modelo MVC (Model-View-Controller)\n",
        "- Diminuição do DRY (Don't repeat yourself)\n",
        "- Evita problemas de segurança"
      ],
      "metadata": {
        "id": "8lq3lCwothTJ"
      }
    },
    {
      "cell_type": "code",
      "source": [
        "from IPython.display import clear_output\n",
        "!pip install pymongo\n",
        "clear_output()"
      ],
      "metadata": {
        "id": "PlBHXGCd2OK8"
      },
      "execution_count": 5,
      "outputs": []
    },
    {
      "cell_type": "code",
      "source": [
        "import sqlalchemy\n",
        "import pymongo"
      ],
      "metadata": {
        "id": "Qlngjd0r1oIO"
      },
      "execution_count": 6,
      "outputs": []
    }
  ]
}