{
  "nbformat": 4,
  "nbformat_minor": 0,
  "metadata": {
    "colab": {
      "provenance": [],
      "authorship_tag": "ABX9TyOhqVzO/OXTCuRY8UAr9CZ6",
      "include_colab_link": true
    },
    "kernelspec": {
      "name": "python3",
      "display_name": "Python 3"
    },
    "language_info": {
      "name": "python"
    }
  },
  "cells": [
    {
      "cell_type": "markdown",
      "metadata": {
        "id": "view-in-github",
        "colab_type": "text"
      },
      "source": [
        "<a href=\"https://colab.research.google.com/github/igordantasgf/PythonFrameworks/blob/main/Python%20e%20BDs%20Relacionais/py_sql_alchemy_2.ipynb\" target=\"_parent\"><img src=\"https://colab.research.google.com/assets/colab-badge.svg\" alt=\"Open In Colab\"/></a>"
      ]
    },
    {
      "cell_type": "markdown",
      "source": [
        "## Criação de Banco de Dados com persistência na memória"
      ],
      "metadata": {
        "id": "4rDSEg0DnSlI"
      }
    },
    {
      "cell_type": "code",
      "execution_count": 1,
      "metadata": {
        "id": "34sL35G7fOtt"
      },
      "outputs": [],
      "source": [
        "from IPython.display import clear_output\n",
        "!pip install pymongo\n",
        "clear_output()"
      ]
    },
    {
      "cell_type": "code",
      "source": [
        "import sqlalchemy\n",
        "import pymongo"
      ],
      "metadata": {
        "id": "FB2lVfmefXGd"
      },
      "execution_count": 2,
      "outputs": []
    },
    {
      "cell_type": "code",
      "source": [
        "from sqlalchemy import create_engine, MetaData, Table, Column, Integer, String, ForeignKey, text"
      ],
      "metadata": {
        "id": "wqiaGagMfcsz"
      },
      "execution_count": 34,
      "outputs": []
    },
    {
      "cell_type": "markdown",
      "source": [
        "### Criação de tabelas"
      ],
      "metadata": {
        "id": "s2NmQX-onYoA"
      }
    },
    {
      "cell_type": "code",
      "source": [
        "engine = create_engine('sqlite:///:memory')\n",
        "\n",
        "metadata_obj = MetaData()\n",
        "user = Table(\n",
        "    'user',\n",
        "    metadata_obj,\n",
        "    Column('user_id', Integer, primary_key=True),\n",
        "    Column('user_name', String(40), nullable=False),\n",
        "    Column('email_address', String(60)),\n",
        "    Column('nickname', String(50), nullable=False)\n",
        ")\n",
        "\n",
        "user_prefs = Table(\n",
        "    'user_prefs',metadata_obj,\n",
        "    Column('pref_id', Integer, primary_key=True),\n",
        "    Column('user_id', Integer, ForeignKey(\"user.user_id\"), nullable=False),\n",
        "    Column('pref_name', String(40), nullable=False),\n",
        "    Column('pref_value', String(100))\n",
        ")"
      ],
      "metadata": {
        "id": "xRoPy0EtfiA2"
      },
      "execution_count": 35,
      "outputs": []
    },
    {
      "cell_type": "code",
      "source": [
        "metadata_bd_obj = MetaData()\n",
        "financial_info = Table(\n",
        "    'financial_info',\n",
        "    metadata_bd_obj,\n",
        "    Column('id', Integer, primary_key=True),\n",
        "    Column('value', String(100), nullable=False)\n",
        ")"
      ],
      "metadata": {
        "id": "TrW3WeoqhAFh"
      },
      "execution_count": 37,
      "outputs": []
    },
    {
      "cell_type": "code",
      "source": [
        "print('Primary Key:')\n",
        "print(user.primary_key)\n",
        "print('\\nConstraint:')\n",
        "print(user.constraints)"
      ],
      "metadata": {
        "colab": {
          "base_uri": "https://localhost:8080/"
        },
        "id": "8dEuwFzdhviK",
        "outputId": "390650ba-0f44-4f13-a1a3-7f621b6abae1"
      },
      "execution_count": 38,
      "outputs": [
        {
          "output_type": "stream",
          "name": "stdout",
          "text": [
            "Primary Key:\n",
            "PrimaryKeyConstraint(Column('user_id', Integer(), table=<user>, primary_key=True, nullable=False))\n",
            "\n",
            "Constraint:\n",
            "{PrimaryKeyConstraint(Column('user_id', Integer(), table=<user>, primary_key=True, nullable=False))}\n"
          ]
        }
      ]
    },
    {
      "cell_type": "code",
      "source": [
        "metadata_obj.create_all(engine)"
      ],
      "metadata": {
        "id": "iiRNVGYTjN1s"
      },
      "execution_count": 46,
      "outputs": []
    },
    {
      "cell_type": "markdown",
      "source": [
        "### Inserindo no banco de dados mantendo persistência\n",
        "- Criação da conexão da engine\n",
        "- Execução do comando"
      ],
      "metadata": {
        "id": "9Z58wFuMmuVj"
      }
    },
    {
      "cell_type": "code",
      "source": [
        "sql_insert = text(\"insert into user values(2,'Isabel', 'mariaisabel@gmail.com','bel')\")\n",
        "with engine.begin() as conn:\n",
        "    result = conn.execute(sql_insert)"
      ],
      "metadata": {
        "id": "9n2fcr_MmB1h"
      },
      "execution_count": 51,
      "outputs": []
    },
    {
      "cell_type": "code",
      "source": [
        "sql = text('select * from user')\n",
        "\n",
        "# Inicia a conexão para executar comando 'sql'\n",
        "with engine.begin() as conn:\n",
        "    result = conn.execute(sql)\n",
        "    print(result)\n",
        "\n",
        "for row in result:\n",
        "  print(row)"
      ],
      "metadata": {
        "colab": {
          "base_uri": "https://localhost:8080/"
        },
        "id": "QyBbt1_gl5rA",
        "outputId": "a23f6efa-e386-44ff-e2eb-51ee6b7ab6eb"
      },
      "execution_count": 52,
      "outputs": [
        {
          "output_type": "stream",
          "name": "stdout",
          "text": [
            "<sqlalchemy.engine.cursor.CursorResult object at 0x7fba6e2fab60>\n",
            "(1, 'igor', 'igordantas@gmail.com', 'igordgf')\n",
            "(2, 'Isabel', 'mariaisabel@gmail.com', 'bel')\n"
          ]
        }
      ]
    }
  ]
}